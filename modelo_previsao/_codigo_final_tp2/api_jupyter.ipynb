{
 "cells": [
  {
   "cell_type": "code",
   "execution_count": 1,
   "metadata": {},
   "outputs": [],
   "source": [
    "import requests\n",
    "import numpy as np\n",
    "import json\n",
    "import pandas as pd\n",
    "from datetime import date, datetime"
   ]
  },
  {
   "cell_type": "code",
   "execution_count": 2,
   "metadata": {},
   "outputs": [],
   "source": [
    "df = pd.DataFrame(columns=[\"type\", \"iconCategory\", \"magnitudeOfDelay\", \"startTime\", \"endTime\", \"length\", \"delay\",\"roadNumbers\", \"events\", \"coordinates\", \"date\", 'time', 'site'])"
   ]
  },
  {
   "cell_type": "code",
   "execution_count": 3,
   "metadata": {},
   "outputs": [],
   "source": [
    "df.to_csv('incidents.csv', sep=',', encoding='utf-8', index=False)"
   ]
  },
  {
   "cell_type": "code",
   "execution_count": 4,
   "metadata": {},
   "outputs": [],
   "source": [
    "api_braga = 'https://api.tomtom.com/traffic/services/5/incidentDetails?key=3Nx9dow0fimxs9gM5UrALAJnu2r1RWon&bbox=-8.447704018864206,41.53338260648846,-8.396748291176934,41.56865075758634&fields=%7Bincidents%7Btype,geometry%7Btype,coordinates%7D,properties%7Bid,iconCategory,magnitudeOfDelay,events%7Bdescription,code,iconCategory%7D,startTime,endTime,from,to,length,delay,roadNumbers,aci%7BprobabilityOfOccurrence,numberOfReports,lastReportTime%7D%7D%7D%7D&language=en-GB'"
   ]
  },
  {
   "cell_type": "code",
   "execution_count": 5,
   "metadata": {},
   "outputs": [
    {
     "output_type": "stream",
     "name": "stdout",
     "text": [
      "https://api.tomtom.com/traffic/services/5/incidentDetails?key=3Nx9dow0fimxs9gM5UrALAJnu2r1RWon&bbox=-8.447704018864206,41.53338260648846,-8.396748291176934,41.56865075758634&fields=%7Bincidents%7Btype,geometry%7Btype,coordinates%7D,properties%7Bid,iconCategory,magnitudeOfDelay,events%7Bdescription,code,iconCategory%7D,startTime,endTime,from,to,length,delay,roadNumbers,aci%7BprobabilityOfOccurrence,numberOfReports,lastReportTime%7D%7D%7D%7D&language=en-GB\n"
     ]
    }
   ],
   "source": [
    "url_braga = api_braga\n",
    "print(url_braga)"
   ]
  },
  {
   "cell_type": "code",
   "execution_count": 6,
   "metadata": {},
   "outputs": [],
   "source": [
    "api_porto = 'https://api.tomtom.com/traffic/services/5/incidentDetails?key=3Nx9dow0fimxs9gM5UrALAJnu2r1RWon&bbox=-8.58113,41.11297,-8.65942,41.17977&fields=%7Bincidents%7Btype,geometry%7Btype,coordinates%7D,properties%7Bid,iconCategory,magnitudeOfDelay,events%7Bdescription,code,iconCategory%7D,startTime,endTime,from,to,length,delay,roadNumbers,aci%7BprobabilityOfOccurrence,numberOfReports,lastReportTime%7D%7D%7D%7D&language=en-GB'"
   ]
  },
  {
   "cell_type": "code",
   "execution_count": 7,
   "metadata": {},
   "outputs": [
    {
     "output_type": "stream",
     "name": "stdout",
     "text": [
      "https://api.tomtom.com/traffic/services/5/incidentDetails?key=3Nx9dow0fimxs9gM5UrALAJnu2r1RWon&bbox=-8.58113,41.11297,-8.65942,41.17977&fields=%7Bincidents%7Btype,geometry%7Btype,coordinates%7D,properties%7Bid,iconCategory,magnitudeOfDelay,events%7Bdescription,code,iconCategory%7D,startTime,endTime,from,to,length,delay,roadNumbers,aci%7BprobabilityOfOccurrence,numberOfReports,lastReportTime%7D%7D%7D%7D&language=en-GB\n"
     ]
    }
   ],
   "source": [
    "url_porto = api_porto\n",
    "print(url_porto)"
   ]
  },
  {
   "cell_type": "code",
   "execution_count": 8,
   "metadata": {},
   "outputs": [
    {
     "output_type": "stream",
     "name": "stdout",
     "text": [
      "200\n"
     ]
    }
   ],
   "source": [
    "json_status = requests.get(url_braga).status_code\n",
    "print(json_status)"
   ]
  },
  {
   "cell_type": "code",
   "execution_count": 9,
   "metadata": {},
   "outputs": [
    {
     "output_type": "stream",
     "name": "stdout",
     "text": [
      "200\n"
     ]
    }
   ],
   "source": [
    "json_status = requests.get(url_porto).status_code\n",
    "print(json_status)"
   ]
  },
  {
   "cell_type": "code",
   "execution_count": null,
   "metadata": {},
   "outputs": [],
   "source": [
    "import time\n",
    "while True: #Infinite loop\n",
    "    result_braga = requests.get(url_braga).json()\n",
    "    \n",
    "\n",
    "    now = datetime.now()\n",
    "    Date = now.strftime(\"%d/%m/%Y\")\n",
    "    Time = now.strftime(\"%H:%M:%S\")\n",
    "\n",
    "    incidents = result_braga['incidents']\n",
    "    \n",
    "\n",
    "    for seq in range(len(incidents)):\n",
    "\n",
    "        Type = str(incidents[seq]['type'])\n",
    "        Cat = incidents[seq]['properties']['iconCategory']\n",
    "        Mag = incidents[seq]['properties']['magnitudeOfDelay']\n",
    "        Stime = str(incidents[seq]['properties']['startTime'])\n",
    "        Etime = str(incidents[seq]['properties']['endTime'])\n",
    "        RoadNumbers = str(incidents[seq]['properties']['roadNumbers'])\n",
    "        if RoadNumbers == \"[]\":\n",
    "            RoadNumbers = \"\"\n",
    "        Events = \"\"\n",
    "        for event in incidents[seq]['properties']['events']:\n",
    "            if Events == \"\":\n",
    "                Events = event['description']\n",
    "            else:\n",
    "                Events = Events + \", \" + event['description']\n",
    "        \n",
    "        Coordinates = []\n",
    "        for coords in incidents[seq]['geometry']['coordinates']:\n",
    "            Coordinates.append(coords)\n",
    "        \n",
    "        Length = incidents[seq]['properties']['length']\n",
    "        Delay = incidents[seq]['properties']['delay']\n",
    "        Site = 'Braga'\n",
    "\n",
    "        insert = (Type, Cat, Mag, Stime, Etime, Length, Delay, RoadNumbers, Events, Coordinates, Date, Time, Site)\n",
    "\n",
    "    register = []\n",
    "    register.append(insert)\n",
    "    register = np.array(register)\n",
    "\n",
    "    aux = pd.DataFrame(register)\n",
    "\n",
    "    aux.to_csv('incidents.csv', mode='a', index=False, sep=',', encoding='utf-8', header=False)\n",
    "    \n",
    "    print(aux)\n",
    "    \n",
    "    result_porto = requests.get(url_porto).json()\n",
    "    \n",
    "    now = datetime.now()\n",
    "    Date = now.strftime(\"%d/%m/%Y\")\n",
    "    Time = now.strftime(\"%H:%M:%S\")\n",
    "    \n",
    "    incidents = result_porto['incidents']\n",
    "    \n",
    "    for seq in range(len(incidents)):\n",
    "\n",
    "        Type = str(incidents[seq]['type'])\n",
    "        Cat = incidents[seq]['properties']['iconCategory']\n",
    "        Mag = incidents[seq]['properties']['magnitudeOfDelay']\n",
    "        Stime = str(incidents[seq]['properties']['startTime'])\n",
    "        Etime = str(incidents[seq]['properties']['endTime'])\n",
    "        RoadNumbers = str(incidents[seq]['properties']['roadNumbers'])\n",
    "        if RoadNumbers == \"[]\":\n",
    "            RoadNumbers = \"\"\n",
    "        Events = \"\"\n",
    "        for event in incidents[seq]['properties']['events']:\n",
    "            if Events == \"\":\n",
    "                Events = event['description']\n",
    "            else:\n",
    "                Events = Events + \", \" + event['description']\n",
    "        \n",
    "        Coordinates = []\n",
    "        for coords in incidents[seq]['geometry']['coordinates']:\n",
    "            Coordinates.append(coords)\n",
    "        \n",
    "        Length = incidents[seq]['properties']['length']\n",
    "        Delay = incidents[seq]['properties']['delay']\n",
    "        Site = 'Porto'\n",
    "\n",
    "        insert = (Type, Cat, Mag, Stime, Etime, Length, Delay, RoadNumbers, Events, Coordinates, Date, Time, Site)\n",
    "\n",
    "    register = []\n",
    "    register.append(insert)\n",
    "    register = np.array(register)\n",
    "\n",
    "    aux = pd.DataFrame(register)\n",
    "\n",
    "    aux.to_csv('incidents.csv', mode='a', index=False, sep=',', encoding='utf-8', header=False)\n",
    "    \n",
    "    print(aux)\n",
    "    \n",
    "    time.sleep(300)"
   ]
  },
  {
   "cell_type": "code",
   "execution_count": null,
   "metadata": {},
   "outputs": [],
   "source": []
  }
 ],
 "metadata": {
  "kernelspec": {
   "name": "python383jvsc74a57bd051a0286baa1804b2c8046c7ae064dc73fe149e9864822267e59cfb0c68609c73",
   "display_name": "Python 3.8.3 64-bit ('base': conda)"
  },
  "language_info": {
   "codemirror_mode": {
    "name": "ipython",
    "version": 3
   },
   "file_extension": ".py",
   "mimetype": "text/x-python",
   "name": "python",
   "nbconvert_exporter": "python",
   "pygments_lexer": "ipython3",
   "version": "3.8.3"
  }
 },
 "nbformat": 4,
 "nbformat_minor": 2
}